{
  "nbformat": 4,
  "nbformat_minor": 0,
  "metadata": {
    "colab": {
      "name": "ex5_1_lstm_imdb_cl",
      "provenance": [],
      "include_colab_link": true
    },
    "kernelspec": {
      "name": "python3",
      "display_name": "Python 3"
    },
    "accelerator": "GPU"
  },
  "cells": [
    {
      "cell_type": "markdown",
      "metadata": {
        "id": "view-in-github",
        "colab_type": "text"
      },
      "source": [
        "<a href=\"https://colab.research.google.com/github/youngchul-sung/three-minutes-keras/blob/master/ex5_1_lstm_imdb_cl.ipynb\" target=\"_parent\"><img src=\"https://colab.research.google.com/assets/colab-badge.svg\" alt=\"Open In Colab\"/></a>"
      ]
    },
    {
      "cell_type": "code",
      "metadata": {
        "id": "d2bFyTdF9pKX",
        "colab_type": "code",
        "colab": {
          "base_uri": "https://localhost:8080/",
          "height": 35
        },
        "outputId": "1f2d3f7c-9e5e-4531-bf24-62f542819920"
      },
      "source": [
        "%tensorflow_version 2.x\n",
        "\n",
        "from tensorflow import keras\n",
        "from tensorflow.keras import layers, models, datasets\n",
        "from tensorflow.keras.preprocessing import sequence"
      ],
      "execution_count": 1,
      "outputs": [
        {
          "output_type": "stream",
          "text": [
            "TensorFlow 2.x selected.\n"
          ],
          "name": "stdout"
        }
      ]
    },
    {
      "cell_type": "code",
      "metadata": {
        "id": "A9W-X_addHwT",
        "colab_type": "code",
        "colab": {
          "base_uri": "https://localhost:8080/",
          "height": 539
        },
        "outputId": "508e2ee0-551b-4576-c48f-e2bafa314eb8"
      },
      "source": [
        "class Data:\n",
        "    def __init__(self, max_features=20000, maxlen=80):\n",
        "        (x_train, y_train), (x_test, y_test) = datasets.imdb.load_data(\n",
        "            num_words=max_features)\n",
        "        x_train = sequence.pad_sequences(x_train, maxlen=maxlen)\n",
        "        x_test = sequence.pad_sequences(x_test, maxlen=maxlen)\n",
        "\n",
        "        self.x_train, self.y_train = x_train, y_train\n",
        "        self.x_test, self.y_test = x_test, y_test\n",
        "\n",
        "\n",
        "class RNN_LSTM(models.Model):\n",
        "    def __init__(self, max_features, maxlen):\n",
        "        x = layers.Input((maxlen,))\n",
        "        h = layers.Embedding(max_features, 128)(x)\n",
        "        h = layers.LSTM(128, dropout=0.2, recurrent_dropout=0.2)(h)\n",
        "        y = layers.Dense(1, activation='sigmoid')(h)\n",
        "        super().__init__(x, y)\n",
        "\n",
        "        # try using different optimizers and different optimizer configs\n",
        "        self.compile(loss='binary_crossentropy',\n",
        "                     optimizer='adam', metrics=['accuracy'])\n",
        "        \n",
        "\n",
        "class Machine:\n",
        "    def __init__(self,\n",
        "                 max_features=20000,\n",
        "                 maxlen=80):\n",
        "        self.data = Data(max_features, maxlen)\n",
        "        self.model = RNN_LSTM(max_features, maxlen)\n",
        "\n",
        "    def run(self, epochs=3, batch_size=32):\n",
        "        data = self.data\n",
        "        model = self.model\n",
        "        print('Training stage')\n",
        "        print('==============')\n",
        "        model.summary()\n",
        "        model.fit(data.x_train, data.y_train,\n",
        "                  batch_size=batch_size,\n",
        "                  epochs=epochs,\n",
        "                  validation_data=(data.x_test, data.y_test))\n",
        "\n",
        "        score, acc = model.evaluate(data.x_test, data.y_test,\n",
        "                                    batch_size=batch_size)\n",
        "        print('Test performance: accuracy={0}, loss={1}'.format(acc, score))\n",
        "\n",
        "\n",
        "def main():\n",
        "    m = Machine()\n",
        "    m.run()\n",
        "\n",
        "\n",
        "if __name__ == '__main__':\n",
        "    main()"
      ],
      "execution_count": 2,
      "outputs": [
        {
          "output_type": "stream",
          "text": [
            "Downloading data from https://storage.googleapis.com/tensorflow/tf-keras-datasets/imdb.npz\n",
            "17465344/17464789 [==============================] - 0s 0us/step\n",
            "Training stage\n",
            "==============\n",
            "Model: \"rnn_lstm\"\n",
            "_________________________________________________________________\n",
            "Layer (type)                 Output Shape              Param #   \n",
            "=================================================================\n",
            "input_1 (InputLayer)         [(None, 80)]              0         \n",
            "_________________________________________________________________\n",
            "embedding (Embedding)        (None, 80, 128)           2560000   \n",
            "_________________________________________________________________\n",
            "lstm (LSTM)                  (None, 128)               131584    \n",
            "_________________________________________________________________\n",
            "dense (Dense)                (None, 1)                 129       \n",
            "=================================================================\n",
            "Total params: 2,691,713\n",
            "Trainable params: 2,691,713\n",
            "Non-trainable params: 0\n",
            "_________________________________________________________________\n",
            "Train on 25000 samples, validate on 25000 samples\n",
            "Epoch 1/3\n",
            "25000/25000 [==============================] - 179s 7ms/sample - loss: 0.4659 - accuracy: 0.7752 - val_loss: 0.3707 - val_accuracy: 0.8372\n",
            "Epoch 2/3\n",
            "25000/25000 [==============================] - 177s 7ms/sample - loss: 0.2908 - accuracy: 0.8834 - val_loss: 0.4151 - val_accuracy: 0.8292\n",
            "Epoch 3/3\n",
            "25000/25000 [==============================] - 174s 7ms/sample - loss: 0.2090 - accuracy: 0.9198 - val_loss: 0.4468 - val_accuracy: 0.8162\n",
            "25000/25000 [==============================] - 25s 1ms/sample - loss: 0.4468 - accuracy: 0.8162\n",
            "Test performance: accuracy=0.8162400126457214, loss=0.4468256864976883\n"
          ],
          "name": "stdout"
        }
      ]
    }
  ]
}