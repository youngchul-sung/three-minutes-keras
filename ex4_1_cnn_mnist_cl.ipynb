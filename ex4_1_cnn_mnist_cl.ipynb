{
  "nbformat": 4,
  "nbformat_minor": 0,
  "metadata": {
    "colab": {
      "name": "ex4_1_cnn_mnist_cl",
      "provenance": [],
      "collapsed_sections": [],
      "include_colab_link": true
    },
    "kernelspec": {
      "name": "python3",
      "display_name": "Python 3"
    },
    "accelerator": "GPU"
  },
  "cells": [
    {
      "cell_type": "markdown",
      "metadata": {
        "id": "view-in-github",
        "colab_type": "text"
      },
      "source": [
        "<a href=\"https://colab.research.google.com/github/youngchul-sung/three-minutes-keras/blob/master/ex4_1_cnn_mnist_cl.ipynb\" target=\"_parent\"><img src=\"https://colab.research.google.com/assets/colab-badge.svg\" alt=\"Open In Colab\"/></a>"
      ]
    },
    {
      "cell_type": "code",
      "metadata": {
        "id": "3tD6FRCOWYTf",
        "colab_type": "code",
        "outputId": "69ae0122-4221-447d-8740-76ad6eeb6f71",
        "colab": {
          "base_uri": "https://localhost:8080/",
          "height": 35
        }
      },
      "source": [
        "%tensorflow_version 2.x\n",
        "\n",
        "import os\n",
        "import numpy as np\n",
        "from tensorflow import keras\n",
        "from tensorflow.keras import layers, models, datasets\n",
        "import matplotlib.pyplot as plt\n",
        "from sklearn import preprocessing"
      ],
      "execution_count": 1,
      "outputs": [
        {
          "output_type": "stream",
          "text": [
            "TensorFlow 2.x selected.\n"
          ],
          "name": "stdout"
        }
      ]
    },
    {
      "cell_type": "code",
      "metadata": {
        "id": "3xMc1EuyFPT7",
        "colab_type": "code",
        "colab": {}
      },
      "source": [
        "def save_history_history(fname, history_history, fold=''):\n",
        "    np.save(os.path.join(fold, fname), history_history)\n",
        "\n",
        "\n",
        "def load_history_history(fname, fold=''):\n",
        "    history_history = np.load(os.path.join(fold, fname)).item(0)\n",
        "    return history_history\n",
        "\n",
        "\n",
        "def plot_acc(history, title=None):\n",
        "    # summarize history for accuracy\n",
        "    if not isinstance(history, dict):\n",
        "        history = history.history\n",
        "\n",
        "    plt.plot(history['accuracy'])\n",
        "    plt.plot(history['val_accuracy'])\n",
        "    if title is not None:\n",
        "        plt.title(title)\n",
        "    plt.ylabel('Accracy')\n",
        "    plt.xlabel('Epoch')\n",
        "    plt.legend(['Training data', 'Validation data'], loc=0)\n",
        "    # plt.show()\n",
        "\n",
        "\n",
        "def plot_loss(history, title=None):\n",
        "    # summarize history for loss\n",
        "    if not isinstance(history, dict):\n",
        "        history = history.history\n",
        "\n",
        "    plt.plot(history['loss'])\n",
        "    plt.plot(history['val_loss'])\n",
        "    if title is not None:\n",
        "        plt.title(title)\n",
        "    plt.ylabel('Loss')\n",
        "    plt.xlabel('Epoch')\n",
        "    plt.legend(['Training data', 'Validation data'], loc=0)\n",
        "    # plt.show()\n",
        "\n",
        "\n",
        "def plot_history(history):\n",
        "    plt.figure(figsize=(15, 5))\n",
        "    plt.subplot(1, 2, 1)\n",
        "    plot_acc(history)\n",
        "    plt.subplot(1, 2, 2)\n",
        "    plot_loss(history)\n",
        "\n",
        "\n",
        "def plot_loss_acc(history):\n",
        "    plot_loss(history, '(a) Loss trajectory')\n",
        "    plt.show()\n",
        "    plot_acc(history, '(b) Accracy trajectory')\n",
        "    plt.show()\n",
        "\n",
        "\n",
        "def plot_acc_loss(history):\n",
        "    plot_acc(history, '(a) Accracy trajectory')\n",
        "    plt.show()\n",
        "    plot_loss(history, '(b) Loss trajectory')\n",
        "    plt.show()"
      ],
      "execution_count": 0,
      "outputs": []
    },
    {
      "cell_type": "code",
      "metadata": {
        "id": "t6v1YcoDXZnO",
        "colab_type": "code",
        "outputId": "9bf8c57f-1a02-4c88-90ab-1cac797fd76d",
        "colab": {
          "base_uri": "https://localhost:8080/",
          "height": 991
        }
      },
      "source": [
        "class CNN(models.Sequential):\n",
        "    def __init__(self, input_shape, num_classes):\n",
        "        super().__init__()\n",
        "\n",
        "        self.add(layers.Conv2D(32, kernel_size=(3, 3),\n",
        "                 activation='relu',\n",
        "                 input_shape=input_shape))\n",
        "        self.add(layers.Conv2D(64, (3, 3), activation='relu'))\n",
        "        self.add(layers.MaxPooling2D(pool_size=(2, 2)))\n",
        "        self.add(layers.Dropout(0.25))\n",
        "        self.add(layers.Flatten())\n",
        "        self.add(layers.Dense(128, activation='relu'))\n",
        "        self.add(layers.Dropout(0.5))\n",
        "        self.add(layers.Dense(num_classes, activation='softmax'))\n",
        "\n",
        "        self.compile(loss=keras.losses.categorical_crossentropy,\n",
        "                      optimizer='rmsprop',\n",
        "                      metrics=['accuracy'])\n",
        "\n",
        "\n",
        "class DATA():\n",
        "    def __init__(self):\n",
        "        num_classes = 10\n",
        "\n",
        "        (x_train, y_train), (x_test, y_test) = datasets.mnist.load_data()\n",
        "        img_rows, img_cols = x_train.shape[1:]\n",
        "\n",
        "        if keras.backend.image_data_format() == 'channels_first':\n",
        "            x_train = x_train.reshape(x_train.shape[0], 1, img_rows, img_cols)\n",
        "            x_test = x_test.reshape(x_test.shape[0], 1, img_rows, img_cols)\n",
        "            input_shape = (1, img_rows, img_cols)\n",
        "        else:\n",
        "            x_train = x_train.reshape(x_train.shape[0], img_rows, img_cols, 1)\n",
        "            x_test = x_test.reshape(x_test.shape[0], img_rows, img_cols, 1)\n",
        "            input_shape = (img_rows, img_cols, 1)\n",
        "\n",
        "        x_train = x_train.astype('float32')\n",
        "        x_test = x_test.astype('float32')\n",
        "        x_train /= 255\n",
        "        x_test /= 255\n",
        "\n",
        "        y_train = keras.utils.to_categorical(y_train, num_classes)\n",
        "        y_test = keras.utils.to_categorical(y_test, num_classes)\n",
        "        \n",
        "        self.input_shape = input_shape\n",
        "        self.num_classes = num_classes\n",
        "        self.x_train, self.y_train = x_train, y_train\n",
        "        self.x_test, self.y_test = x_test, y_test\n",
        "\n",
        "\n",
        "def main():\n",
        "    batch_size = 128\n",
        "    epochs = 10\n",
        "\n",
        "    data = DATA()\n",
        "    model = CNN(data.input_shape, data.num_classes)\n",
        "\n",
        "    history = model.fit(data.x_train, data.y_train,\n",
        "              batch_size=batch_size,\n",
        "              epochs=epochs,\n",
        "              validation_split=0.2)\n",
        "\n",
        "    score = model.evaluate(data.x_test, data.y_test)\n",
        "    print()\n",
        "    print('Test loss:', score[0])\n",
        "    print('Test accuracy:', score[1])\n",
        "\n",
        "    plot_loss(history)\n",
        "    plt.show()\n",
        "    plot_acc(history)\n",
        "    plt.show()\n",
        "\n",
        "if __name__ == '__main__':\n",
        "    main()"
      ],
      "execution_count": 3,
      "outputs": [
        {
          "output_type": "stream",
          "text": [
            "Train on 48000 samples, validate on 12000 samples\n",
            "Epoch 1/10\n",
            "48000/48000 [==============================] - 4s 90us/sample - loss: 0.2387 - accuracy: 0.9274 - val_loss: 0.0679 - val_accuracy: 0.9794\n",
            "Epoch 2/10\n",
            "48000/48000 [==============================] - 3s 53us/sample - loss: 0.0856 - accuracy: 0.9746 - val_loss: 0.0469 - val_accuracy: 0.9872\n",
            "Epoch 3/10\n",
            "48000/48000 [==============================] - 2s 52us/sample - loss: 0.0643 - accuracy: 0.9812 - val_loss: 0.0434 - val_accuracy: 0.9868\n",
            "Epoch 4/10\n",
            "48000/48000 [==============================] - 3s 53us/sample - loss: 0.0526 - accuracy: 0.9842 - val_loss: 0.0424 - val_accuracy: 0.9880\n",
            "Epoch 5/10\n",
            "48000/48000 [==============================] - 3s 52us/sample - loss: 0.0472 - accuracy: 0.9856 - val_loss: 0.0475 - val_accuracy: 0.9884\n",
            "Epoch 6/10\n",
            "48000/48000 [==============================] - 3s 52us/sample - loss: 0.0417 - accuracy: 0.9878 - val_loss: 0.0401 - val_accuracy: 0.9886\n",
            "Epoch 7/10\n",
            "48000/48000 [==============================] - 3s 53us/sample - loss: 0.0414 - accuracy: 0.9875 - val_loss: 0.0411 - val_accuracy: 0.9893\n",
            "Epoch 8/10\n",
            "48000/48000 [==============================] - 3s 52us/sample - loss: 0.0405 - accuracy: 0.9877 - val_loss: 0.0434 - val_accuracy: 0.9882\n",
            "Epoch 9/10\n",
            "48000/48000 [==============================] - 3s 52us/sample - loss: 0.0380 - accuracy: 0.9884 - val_loss: 0.0428 - val_accuracy: 0.9886\n",
            "Epoch 10/10\n",
            "48000/48000 [==============================] - 3s 53us/sample - loss: 0.0387 - accuracy: 0.9890 - val_loss: 0.0444 - val_accuracy: 0.9886\n",
            "10000/10000 [==============================] - 1s 71us/sample - loss: 0.0381 - accuracy: 0.9886\n",
            "\n",
            "Test loss: 0.03809235434580824\n",
            "Test accuracy: 0.9886\n"
          ],
          "name": "stdout"
        },
        {
          "output_type": "display_data",
          "data": {
            "image/png": "[encoded data removed]",
            "text/plain": [
              "<Figure size 432x288 with 1 Axes>"
            ]
          },
          "metadata": {
            "tags": []
          }
        },
        {
          "output_type": "display_data",
          "data": {
            "image/png": "[encoded data removed]",
            "text/plain": [
              "<Figure size 432x288 with 1 Axes>"
            ]
          },
          "metadata": {
            "tags": []
          }
        }
      ]
    }
  ]
}