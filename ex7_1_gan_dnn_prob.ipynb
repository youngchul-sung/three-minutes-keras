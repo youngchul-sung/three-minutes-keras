{
  "nbformat": 4,
  "nbformat_minor": 0,
  "metadata": {
    "colab": {
      "name": "ex7_1_gan_dnn_prob",
      "provenance": [],
      "include_colab_link": true
    },
    "kernelspec": {
      "name": "python3",
      "display_name": "Python 3"
    },
    "accelerator": "GPU"
  },
  "cells": [
    {
      "cell_type": "markdown",
      "metadata": {
        "id": "view-in-github",
        "colab_type": "text"
      },
      "source": [
        "<a href=\"https://colab.research.google.com/github/youngchul-sung/three-minutes-keras/blob/master/ex7_1_gan_dnn_prob.ipynb\" target=\"_parent\"><img src=\"https://colab.research.google.com/assets/colab-badge.svg\" alt=\"Open In Colab\"/></a>"
      ]
    },
    {
      "cell_type": "code",
      "metadata": {
        "id": "wzC6rxa1b21i",
        "colab_type": "code",
        "colab": {
          "base_uri": "https://localhost:8080/",
          "height": 1000
        },
        "outputId": "ad2b40d5-8642-4027-ef02-4b14c1520f56"
      },
      "source": [
        "%tensorflow_version 2.x\n",
        "\n",
        "import numpy as np\n",
        "import matplotlib.pyplot as plt\n",
        "\n",
        "from tensorflow import keras\n",
        "from tensorflow.keras import models, layers\n",
        "from tensorflow.keras.layers import Dense, Conv1D, Reshape, Flatten, Lambda\n",
        "from tensorflow.keras import optimizers\n",
        "\n",
        "\n",
        "def add_decorate(x):\n",
        "    \"\"\"\n",
        "    axis = -1 --> last dimension in an array\n",
        "    \"\"\"\n",
        "    m = keras.backend.mean(x, axis=-1, keepdims=True)\n",
        "    d = keras.backend.square(x - m)\n",
        "    return keras.backend.concatenate([x, d], axis=-1)\n",
        "\n",
        "\n",
        "def add_decorate_shape(input_shape):\n",
        "    shape = list(input_shape)\n",
        "    assert len(shape) == 2\n",
        "    shape[1] *= 2\n",
        "    return tuple(shape)\n",
        "\n",
        "# model.add(Lambda(antirectifier, output_shape=antirectifier_output_shape))\n",
        "\n",
        "\n",
        "lr = 2e-4  # 0.0002\n",
        "adam = optimizers.Adam(lr=lr, beta_1=0.9, beta_2=0.999)\n",
        "\n",
        "\n",
        "def model_compile(model):\n",
        "    return model.compile(loss='binary_crossentropy', optimizer=adam, metrics=['accuracy'])\n",
        "\n",
        "\n",
        "class Data:\n",
        "    def __init__(self, mu, sigma, ni_D):\n",
        "        self.real_sample = lambda n_batch: np.random.normal(mu, sigma, (n_batch, ni_D))\n",
        "        self.in_sample = lambda n_batch: np.random.rand(n_batch, ni_D)\n",
        "\n",
        "\n",
        "class GAN:\n",
        "    def __init__(self, ni_D, nh_D, nh_G):\n",
        "        self.ni_D = ni_D\n",
        "        self.nh_D = nh_D\n",
        "        self.nh_G = nh_G\n",
        "\n",
        "        self.D = self.gen_D()\n",
        "        self.G = self.gen_G()\n",
        "        self.GD = self.make_GD()\n",
        "\n",
        "        self.D.summary()\n",
        "        self.G.summary()\n",
        "        self.GD.summary()\n",
        "\n",
        "    def gen_D(self):\n",
        "        ni_D = self.ni_D\n",
        "        nh_D = self.nh_D\n",
        "        D = models.Sequential()\n",
        "        D.add(Lambda(add_decorate, output_shape=add_decorate_shape, input_shape=(ni_D,)))\n",
        "        D.add(Dense(nh_D, activation='relu'))\n",
        "        D.add(Dense(nh_D, activation='relu'))\n",
        "        D.add(Dense(1, activation='sigmoid'))\n",
        "\n",
        "        model_compile(D)\n",
        "        return D\n",
        "\n",
        "    def gen_G(self):\n",
        "        ni_D = self.ni_D\n",
        "        nh_G = self.nh_D\n",
        "\n",
        "        G = models.Sequential()  # (Batch, ni_D)\n",
        "        G.add(Reshape((ni_D, 1), input_shape=(ni_D,)))  # (Batch, steps=ni_D, input_dim=1)\n",
        "        G.add(Conv1D(nh_G, 1, activation='relu'))  # (Batch, ni_D, nh_G)\n",
        "        G.add(Conv1D(nh_G, 1, activation='sigmoid'))  # (Batch, ni_D, nh_G)\n",
        "        G.add(Conv1D(1, 1))  # (Batch, ni_D, 1)\n",
        "        G.add(Flatten())  # (Batch, ni_D)\n",
        "\n",
        "        model_compile(G)\n",
        "        return G\n",
        "\n",
        "    def make_GD(self):\n",
        "        G, D = self.G, self.D\n",
        "        GD = models.Sequential()\n",
        "        GD.add(G)\n",
        "        GD.add(D)\n",
        "        D.trainable = False\n",
        "        model_compile(GD)\n",
        "        D.trainable = True\n",
        "        return GD\n",
        "\n",
        "    def D_train_on_batch(self, Real, Gen):\n",
        "        D = self.D\n",
        "        X = np.concatenate([Real, Gen], axis=0)\n",
        "        y = np.array([1] * Real.shape[0] + [0] * Gen.shape[0])\n",
        "        D.train_on_batch(X, y)\n",
        "\n",
        "    def GD_train_on_batch(self, Z):\n",
        "        GD = self.GD\n",
        "        y = np.array([1] * Z.shape[0])\n",
        "        GD.train_on_batch(Z, y)\n",
        "\n",
        "\n",
        "class Machine:\n",
        "    def __init__(self, n_batch=10, ni_D=100):\n",
        "        data_mean = 4\n",
        "        data_stddev = 1.25\n",
        "\n",
        "        self.n_iter_D = 1\n",
        "        self.n_iter_G = 5\n",
        "\n",
        "        self.data = Data(data_mean, data_stddev, ni_D)\n",
        "        self.gan = GAN(ni_D=ni_D, nh_D=50, nh_G=50)\n",
        "\n",
        "        self.n_batch = n_batch\n",
        "        # self.ni_D = ni_D\n",
        "\n",
        "    def train_D(self):\n",
        "        gan = self.gan\n",
        "        n_batch = self.n_batch\n",
        "        data = self.data\n",
        "\n",
        "        # Real data\n",
        "        Real = data.real_sample(n_batch)  # (n_batch, ni_D)\n",
        "        # print(Real.shape)\n",
        "        # Generated data\n",
        "        Z = data.in_sample(n_batch)  # (n_batch, ni_D)\n",
        "        Gen = gan.G.predict(Z)  # (n_batch, ni_D)\n",
        "        # print(Gen.shape)\n",
        "\n",
        "        gan.D.trainable = True\n",
        "        gan.D_train_on_batch(Real, Gen)\n",
        "\n",
        "    def train_GD(self):\n",
        "        gan = self.gan\n",
        "        n_batch = self.n_batch\n",
        "        data = self.data\n",
        "        # Seed data for data generation\n",
        "        Z = data.in_sample(n_batch)\n",
        "\n",
        "        gan.D.trainable = False\n",
        "        gan.GD_train_on_batch(Z)\n",
        "\n",
        "    def train_each(self):\n",
        "        for it in range(self.n_iter_D):\n",
        "            self.train_D()\n",
        "        for it in range(self.n_iter_G):\n",
        "            self.train_GD()\n",
        "\n",
        "    def train(self, epochs):\n",
        "        for epoch in range(epochs):\n",
        "            self.train_each()\n",
        "\n",
        "    def test(self, n_test):\n",
        "        \"\"\"\n",
        "        generate a new image\n",
        "        \"\"\"\n",
        "        gan = self.gan\n",
        "        data = self.data\n",
        "        Z = data.in_sample(n_test)\n",
        "        Gen = gan.G.predict(Z)\n",
        "        return Gen, Z\n",
        "\n",
        "    def show_hist(self, Real, Gen, Z):\n",
        "        plt.hist(Real.reshape(-1), histtype='step', label='Real')\n",
        "        plt.hist(Gen.reshape(-1), histtype='step', label='Generated')\n",
        "        plt.hist(Z.reshape(-1), histtype='step', label='Input')\n",
        "        plt.legend(loc=0)\n",
        "\n",
        "    def test_and_show(self, n_test):\n",
        "        data = self.data\n",
        "        Gen, Z = self.test(n_test)\n",
        "        Real = data.real_sample(n_test)\n",
        "        self.show_hist(Real, Gen, Z)\n",
        "        Machine.print_stat(Real, Gen)\n",
        "\n",
        "    def run_epochs(self, epochs, n_test):\n",
        "        \"\"\"\n",
        "        train GAN and show the results\n",
        "        for showing, the original and the artificial results will be compared\n",
        "        \"\"\"\n",
        "        self.train(epochs)\n",
        "        self.test_and_show(n_test)\n",
        "\n",
        "    def run(self, n_repeat=200, n_show=200, n_test=100):\n",
        "        for ii in range(n_repeat):\n",
        "            print('Stage', ii, '(Epoch: {})'.format(ii * n_show))\n",
        "            self.run_epochs(n_show, n_test)\n",
        "            plt.show()\n",
        "\n",
        "    @staticmethod\n",
        "    def print_stat(Real, Gen):\n",
        "        def stat(d):\n",
        "            return (np.mean(d), np.std(d))\n",
        "        print('Mean and Std of Real:', stat(Real))\n",
        "        print('Mean and Std of Gen:', stat(Gen))\n",
        "\n",
        "\n",
        "def main():\n",
        "    machine = Machine(n_batch=1, ni_D=100)\n",
        "    machine.run(n_repeat=200, n_show=200, n_test=100)\n",
        "\n",
        "\n",
        "if __name__ == '__main__':\n",
        "    main()"
      ],
      "execution_count": 0,
      "outputs": [
        {
          "output_type": "stream",
          "text": [
            "TensorFlow 2.x selected.\n",
            "Model: \"sequential\"\n",
            "_________________________________________________________________\n",
            "Layer (type)                 Output Shape              Param #   \n",
            "=================================================================\n",
            "lambda (Lambda)              (None, 200)               0         \n",
            "_________________________________________________________________\n",
            "dense (Dense)                (None, 50)                10050     \n",
            "_________________________________________________________________\n",
            "dense_1 (Dense)              (None, 50)                2550      \n",
            "_________________________________________________________________\n",
            "dense_2 (Dense)              (None, 1)                 51        \n",
            "=================================================================\n",
            "Total params: 12,651\n",
            "Trainable params: 12,651\n",
            "Non-trainable params: 0\n",
            "_________________________________________________________________\n",
            "Model: \"sequential_1\"\n",
            "_________________________________________________________________\n",
            "Layer (type)                 Output Shape              Param #   \n",
            "=================================================================\n",
            "reshape (Reshape)            (None, 100, 1)            0         \n",
            "_________________________________________________________________\n",
            "conv1d (Conv1D)              (None, 100, 50)           100       \n",
            "_________________________________________________________________\n",
            "conv1d_1 (Conv1D)            (None, 100, 50)           2550      \n",
            "_________________________________________________________________\n",
            "conv1d_2 (Conv1D)            (None, 100, 1)            51        \n",
            "_________________________________________________________________\n",
            "flatten (Flatten)            (None, 100)               0         \n",
            "=================================================================\n",
            "Total params: 2,701\n",
            "Trainable params: 2,701\n",
            "Non-trainable params: 0\n",
            "_________________________________________________________________\n",
            "Model: \"sequential_2\"\n",
            "_________________________________________________________________\n",
            "Layer (type)                 Output Shape              Param #   \n",
            "=================================================================\n",
            "sequential_1 (Sequential)    (None, 100)               2701      \n",
            "_________________________________________________________________\n",
            "sequential (Sequential)      (None, 1)                 12651     \n",
            "=================================================================\n",
            "WARNING:tensorflow:Discrepancy between trainable weights and collected trainable weights, did you set `model.trainable` without calling `model.compile` after ?\n",
            "Total params: 2,701\n",
            "Trainable params: 2,701\n",
            "Non-trainable params: 0\n",
            "_________________________________________________________________\n",
            "Stage 0 (Epoch: 0)\n",
            "Mean and Std of Real: (4.003912974784678, 1.2505888101015632)\n",
            "Mean and Std of Gen: (2.9874575, 0.8332902)\n"
          ],
          "name": "stdout"
        },
        {
          "output_type": "display_data",
          "data": {
            "image/png": "[encoded data removed]",
            "text/plain": [
              "<Figure size 432x288 with 1 Axes>"
            ]
          },
          "metadata": {
            "tags": []
          }
        },
        {
          "output_type": "stream",
          "text": [
            "Stage 1 (Epoch: 200)\n",
            "Mean and Std of Real: (3.9954760166894134, 1.25806013931934)\n",
            "Mean and Std of Gen: (3.8877945, 1.1687225)\n"
          ],
          "name": "stdout"
        },
        {
          "output_type": "display_data",
          "data": {
            "image/png": "[encoded data removed]",
            "text/plain": [
              "<Figure size 432x288 with 1 Axes>"
            ]
          },
          "metadata": {
            "tags": []
          }
        },
        {
          "output_type": "stream",
          "text": [
            "Stage 2 (Epoch: 400)\n",
            "Mean and Std of Real: (3.9996169729231696, 1.249625253438534)\n",
            "Mean and Std of Gen: (3.5376227, 1.2642578)\n"
          ],
          "name": "stdout"
        },
        {
          "output_type": "display_data",
          "data": {
            "image/png": "[encoded data removed]",
            "text/plain": [
              "<Figure size 432x288 with 1 Axes>"
            ]
          },
          "metadata": {
            "tags": []
          }
        },
        {
          "output_type": "stream",
          "text": [
            "Stage 3 (Epoch: 600)\n",
            "Mean and Std of Real: (4.0040029795434995, 1.2556100068775466)\n",
            "Mean and Std of Gen: (5.0280614, 0.9810194)\n"
          ],
          "name": "stdout"
        },
        {
          "output_type": "display_data",
          "data": {
            "image/png": "[encoded data removed]",
            "text/plain": [
              "<Figure size 432x288 with 1 Axes>"
            ]
          },
          "metadata": {
            "tags": []
          }
        },
        {
          "output_type": "stream",
          "text": [
            "Stage 4 (Epoch: 800)\n",
            "Mean and Std of Real: (3.9846470174903907, 1.262623843445819)\n",
            "Mean and Std of Gen: (4.596889, 1.111035)\n"
          ],
          "name": "stdout"
        },
        {
          "output_type": "display_data",
          "data": {
            "image/png": "[encoded data removed]",
            "text/plain": [
              "<Figure size 432x288 with 1 Axes>"
            ]
          },
          "metadata": {
            "tags": []
          }
        },
        {
          "output_type": "stream",
          "text": [
            "Stage 5 (Epoch: 1000)\n"
          ],
          "name": "stdout"
        }
      ]
    }
  ]
}