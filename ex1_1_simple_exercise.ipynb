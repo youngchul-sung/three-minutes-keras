{
  "nbformat": 4,
  "nbformat_minor": 0,
  "metadata": {
    "colab": {
      "name": "ex1_1_simple_exercise",
      "provenance": [],
      "collapsed_sections": [],
      "include_colab_link": true
    },
    "kernelspec": {
      "name": "python3",
      "display_name": "Python 3"
    }
  },
  "cells": [
    {
      "cell_type": "markdown",
      "metadata": {
        "id": "view-in-github",
        "colab_type": "text"
      },
      "source": [
        "<a href=\"https://colab.research.google.com/github/youngchul-sung/three-minutes-keras/blob/master/ex1_1_simple_exercise.ipynb\" target=\"_parent\"><img src=\"https://colab.research.google.com/assets/colab-badge.svg\" alt=\"Open In Colab\"/></a>"
      ]
    },
    {
      "cell_type": "code",
      "metadata": {
        "id": "E2QlP-aYhuBN",
        "colab_type": "code",
        "colab": {}
      },
      "source": [
        "%tensorflow_version 2.x\n",
        "\n",
        "import tensorflow as tf\n",
        "from tensorflow.keras import models, layers\n",
        "import numpy as np"
      ],
      "execution_count": 0,
      "outputs": []
    },
    {
      "cell_type": "code",
      "metadata": {
        "id": "unVIW5j-ibUd",
        "colab_type": "code",
        "outputId": "a7943970-25a8-42f0-f5c1-b44b13371b85",
        "colab": {
          "base_uri": "https://localhost:8080/",
          "height": 53
        }
      },
      "source": [
        "x = np.array([0, 1, 2, 3, 4])\n",
        "y = x * 2 + 1\n",
        "\n",
        "model = models.Sequential()\n",
        "model.add(layers.Dense(1, input_shape=(1,)))\n",
        "model.compile('SGD', 'mse')\n",
        "\n",
        "model.fit(x[:2], y[:2], epochs=1000, verbose=0)\n",
        "\n",
        "print('Targets:', y[2:])\n",
        "print('Predictions:', model.predict(x[2:]).flatten())"
      ],
      "execution_count": 0,
      "outputs": [
        {
          "output_type": "stream",
          "text": [
            "Targets: [5 7 9]\n",
            "Predictions: [5.0020943 7.0036097 9.005125 ]\n"
          ],
          "name": "stdout"
        }
      ]
    }
  ]
}