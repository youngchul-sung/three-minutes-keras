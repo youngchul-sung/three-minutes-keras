{
  "nbformat": 4,
  "nbformat_minor": 0,
  "metadata": {
    "colab": {
      "name": "ex3_1a_dnn_mnist_cl",
      "provenance": [],
      "collapsed_sections": [],
      "include_colab_link": true
    },
    "kernelspec": {
      "name": "python3",
      "display_name": "Python 3"
    }
  },
  "cells": [
    {
      "cell_type": "markdown",
      "metadata": {
        "id": "view-in-github",
        "colab_type": "text"
      },
      "source": [
        "<a href=\"https://colab.research.google.com/github/youngchul-sung/three-minutes-keras/blob/master/ex3_1a_dnn_mnist_cl.ipynb\" target=\"_parent\"><img src=\"https://colab.research.google.com/assets/colab-badge.svg\" alt=\"Open In Colab\"/></a>"
      ]
    },
    {
      "cell_type": "code",
      "metadata": {
        "id": "_B4aT1N-xNoD",
        "colab_type": "code",
        "outputId": "fa611e03-530f-4463-f75c-e23cff1240b9",
        "colab": {
          "base_uri": "https://localhost:8080/",
          "height": 35
        }
      },
      "source": [
        "%tensorflow_version 2.x\n",
        "\n",
        "import os\n",
        "import numpy as np\n",
        "from tensorflow import keras\n",
        "from tensorflow.keras import layers, models, datasets\n",
        "import matplotlib.pyplot as plt\n",
        "from sklearn import preprocessing"
      ],
      "execution_count": 1,
      "outputs": [
        {
          "output_type": "stream",
          "text": [
            "TensorFlow 2.x selected.\n"
          ],
          "name": "stdout"
        }
      ]
    },
    {
      "cell_type": "code",
      "metadata": {
        "id": "6ZYGacqR8esM",
        "colab_type": "code",
        "colab": {}
      },
      "source": [
        "def save_history_history(fname, history_history, fold=''):\n",
        "    np.save(os.path.join(fold, fname), history_history)\n",
        "\n",
        "\n",
        "def load_history_history(fname, fold=''):\n",
        "    history_history = np.load(os.path.join(fold, fname)).item(0)\n",
        "    return history_history\n",
        "\n",
        "\n",
        "def plot_acc(history, title=None):\n",
        "    # summarize history for accuracy\n",
        "    if not isinstance(history, dict):\n",
        "        history = history.history\n",
        "\n",
        "    plt.plot(history['accuracy'])\n",
        "    plt.plot(history['val_accuracy'])\n",
        "    if title is not None:\n",
        "        plt.title(title)\n",
        "    plt.ylabel('Accracy')\n",
        "    plt.xlabel('Epoch')\n",
        "    plt.legend(['Training data', 'Validation data'], loc=0)\n",
        "    # plt.show()\n",
        "\n",
        "\n",
        "def plot_loss(history, title=None):\n",
        "    # summarize history for loss\n",
        "    if not isinstance(history, dict):\n",
        "        history = history.history\n",
        "\n",
        "    plt.plot(history['loss'])\n",
        "    plt.plot(history['val_loss'])\n",
        "    if title is not None:\n",
        "        plt.title(title)\n",
        "    plt.ylabel('Loss')\n",
        "    plt.xlabel('Epoch')\n",
        "    plt.legend(['Training data', 'Validation data'], loc=0)\n",
        "    # plt.show()\n",
        "\n",
        "\n",
        "def plot_history(history):\n",
        "    plt.figure(figsize=(15, 5))\n",
        "    plt.subplot(1, 2, 1)\n",
        "    plot_acc(history)\n",
        "    plt.subplot(1, 2, 2)\n",
        "    plot_loss(history)\n",
        "\n",
        "\n",
        "def plot_loss_acc(history):\n",
        "    plot_loss(history, '(a) Loss trajectory')\n",
        "    plt.show()\n",
        "    plot_acc(history, '(b) Accracy trajectory')\n",
        "    plt.show()\n",
        "\n",
        "\n",
        "def plot_acc_loss(history):\n",
        "    plot_acc(history, '(a) Accracy trajectory')\n",
        "    plt.show()\n",
        "    plot_loss(history, '(b) Loss trajectory')\n",
        "    plt.show()"
      ],
      "execution_count": 0,
      "outputs": []
    },
    {
      "cell_type": "code",
      "metadata": {
        "id": "VAlZazI4xk70",
        "colab_type": "code",
        "outputId": "0159f654-244d-477d-ce4a-f0ee73976a19",
        "colab": {
          "base_uri": "https://localhost:8080/",
          "height": 991
        }
      },
      "source": [
        "class DNN(models.Sequential):\n",
        "    def __init__(self, Nin, Nh_l, Nout):\n",
        "        super().__init__()\n",
        "        self.add(layers.Dense(Nh_l[0], activation='relu', \n",
        "                 input_shape=(Nin,), name='Hidden-1'))\n",
        "        self.add(layers.Dense(Nh_l[1], activation='relu', \n",
        "                 name='Hidden-2'))       \n",
        "        self.add(layers.Dense(Nout, activation='softmax'))\n",
        "        self.compile(loss='categorical_crossentropy', \n",
        "                         optimizer='adam', \n",
        "                         metrics=['accuracy'])\n",
        "        \n",
        "\n",
        "def Data_func():\n",
        "    (X_train, y_train), (X_test, y_test) = datasets.mnist.load_data()\n",
        "\n",
        "    Y_train = keras.utils.to_categorical(y_train)\n",
        "    Y_test = keras.utils.to_categorical(y_test)\n",
        "\n",
        "    L, W, H = X_train.shape\n",
        "    X_train = X_train.reshape(-1, W * H)\n",
        "    X_test = X_test.reshape(-1, W * H)\n",
        "\n",
        "    X_train = X_train / 255.0\n",
        "    X_test = X_test / 255.0\n",
        "\n",
        "    return (X_train, Y_train), (X_test, Y_test)\n",
        "\n",
        "\n",
        "# 분류 DNN 학습 및 테스팅 ####################\n",
        "def main():\n",
        "    Nin = 784\n",
        "    Nh_l = [100, 50]\n",
        "    number_of_class = 10\n",
        "    Nout = number_of_class\n",
        "\n",
        "    (X_train, Y_train), (X_test, Y_test) = Data_func()\n",
        "    model = DNN(Nin, Nh_l, Nout)\n",
        "    history = model.fit(X_train, Y_train, epochs=10, batch_size=100, validation_split=0.2)\n",
        "    \n",
        "    performace_test = model.evaluate(X_test, Y_test, batch_size=100)\n",
        "    print('Test Loss and Accuracy ->', performace_test)\n",
        "\n",
        "    plot_acc(history)\n",
        "    plt.show()\n",
        "    plot_loss(history)\n",
        "    plt.show()\n",
        "\n",
        "# Run code\n",
        "if __name__ == '__main__':\n",
        "    main()"
      ],
      "execution_count": 3,
      "outputs": [
        {
          "output_type": "stream",
          "text": [
            "Downloading data from https://storage.googleapis.com/tensorflow/tf-keras-datasets/mnist.npz\n",
            "11493376/11490434 [==============================] - 0s 0us/step\n",
            "Train on 48000 samples, validate on 12000 samples\n",
            "Epoch 1/10\n",
            "48000/48000 [==============================] - 3s 56us/sample - loss: 0.3768 - accuracy: 0.8949 - val_loss: 0.1872 - val_accuracy: 0.9477\n",
            "Epoch 2/10\n",
            "48000/48000 [==============================] - 2s 41us/sample - loss: 0.1600 - accuracy: 0.9516 - val_loss: 0.1468 - val_accuracy: 0.9578\n",
            "Epoch 3/10\n",
            "48000/48000 [==============================] - 2s 41us/sample - loss: 0.1157 - accuracy: 0.9654 - val_loss: 0.1133 - val_accuracy: 0.9685\n",
            "Epoch 4/10\n",
            "48000/48000 [==============================] - 2s 41us/sample - loss: 0.0868 - accuracy: 0.9742 - val_loss: 0.1027 - val_accuracy: 0.9703\n",
            "Epoch 5/10\n",
            "48000/48000 [==============================] - 2s 40us/sample - loss: 0.0679 - accuracy: 0.9791 - val_loss: 0.1006 - val_accuracy: 0.9704\n",
            "Epoch 6/10\n",
            "48000/48000 [==============================] - 2s 41us/sample - loss: 0.0544 - accuracy: 0.9831 - val_loss: 0.1000 - val_accuracy: 0.9713\n",
            "Epoch 7/10\n",
            "48000/48000 [==============================] - 2s 42us/sample - loss: 0.0454 - accuracy: 0.9867 - val_loss: 0.0960 - val_accuracy: 0.9716\n",
            "Epoch 8/10\n",
            "48000/48000 [==============================] - 2s 42us/sample - loss: 0.0386 - accuracy: 0.9883 - val_loss: 0.0955 - val_accuracy: 0.9732\n",
            "Epoch 9/10\n",
            "48000/48000 [==============================] - 2s 42us/sample - loss: 0.0321 - accuracy: 0.9902 - val_loss: 0.0990 - val_accuracy: 0.9732\n",
            "Epoch 10/10\n",
            "48000/48000 [==============================] - 2s 42us/sample - loss: 0.0260 - accuracy: 0.9924 - val_loss: 0.1004 - val_accuracy: 0.9748\n",
            "10000/10000 [==============================] - 0s 19us/sample - loss: 0.0885 - accuracy: 0.9749\n",
            "Test Loss and Accuracy -> [0.0885082163196057, 0.9749]\n"
          ],
          "name": "stdout"
        },
        {
          "output_type": "display_data",
          "data": {
            "image/png": "[encoded data removed]",
            "text/plain": [
              "<Figure size 432x288 with 1 Axes>"
            ]
          },
          "metadata": {
            "tags": []
          }
        },
        {
          "output_type": "display_data",
          "data": {
            "image/png": "[encoded data removed]",
            "text/plain": [
              "<Figure size 432x288 with 1 Axes>"
            ]
          },
          "metadata": {
            "tags": []
          }
        }
      ]
    }
  ]
}