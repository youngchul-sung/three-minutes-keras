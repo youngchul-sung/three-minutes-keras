{
  "nbformat": 4,
  "nbformat_minor": 0,
  "metadata": {
    "colab": {
      "name": "ex2_2_ann_rg",
      "provenance": [],
      "collapsed_sections": [],
      "include_colab_link": true
    },
    "kernelspec": {
      "name": "python3",
      "display_name": "Python 3"
    }
  },
  "cells": [
    {
      "cell_type": "markdown",
      "metadata": {
        "id": "view-in-github",
        "colab_type": "text"
      },
      "source": [
        "<a href=\"https://colab.research.google.com/github/youngchul-sung/three-minutes-keras/blob/master/ex2_2_ann_rg.ipynb\" target=\"_parent\"><img src=\"https://colab.research.google.com/assets/colab-badge.svg\" alt=\"Open In Colab\"/></a>"
      ]
    },
    {
      "cell_type": "code",
      "metadata": {
        "id": "nPgCjxS17uc3",
        "colab_type": "code",
        "outputId": "d3da8359-81ae-4e86-e4df-550ac997845d",
        "colab": {
          "base_uri": "https://localhost:8080/",
          "height": 370
        }
      },
      "source": [
        "%tensorflow_version 2.x\n",
        "\n",
        "import os\n",
        "import numpy as np\n",
        "from tensorflow import keras\n",
        "from tensorflow.keras import layers, models, datasets\n",
        "import matplotlib.pyplot as plt\n",
        "from sklearn import preprocessing\n",
        "from keraspp import skeras"
      ],
      "execution_count": 1,
      "outputs": [
        {
          "output_type": "stream",
          "text": [
            "TensorFlow 2.x selected.\n"
          ],
          "name": "stdout"
        },
        {
          "output_type": "error",
          "ename": "ModuleNotFoundError",
          "evalue": "ignored",
          "traceback": [
            "\u001b[0;31m---------------------------------------------------------------------------\u001b[0m",
            "\u001b[0;31mModuleNotFoundError\u001b[0m                       Traceback (most recent call last)",
            "\u001b[0;32m<ipython-input-1-f56e34fa1b28>\u001b[0m in \u001b[0;36m<module>\u001b[0;34m()\u001b[0m\n\u001b[1;32m      7\u001b[0m \u001b[0;32mimport\u001b[0m \u001b[0mmatplotlib\u001b[0m\u001b[0;34m.\u001b[0m\u001b[0mpyplot\u001b[0m \u001b[0;32mas\u001b[0m \u001b[0mplt\u001b[0m\u001b[0;34m\u001b[0m\u001b[0;34m\u001b[0m\u001b[0m\n\u001b[1;32m      8\u001b[0m \u001b[0;32mfrom\u001b[0m \u001b[0msklearn\u001b[0m \u001b[0;32mimport\u001b[0m \u001b[0mpreprocessing\u001b[0m\u001b[0;34m\u001b[0m\u001b[0;34m\u001b[0m\u001b[0m\n\u001b[0;32m----> 9\u001b[0;31m \u001b[0;32mfrom\u001b[0m \u001b[0mkeraspp\u001b[0m \u001b[0;32mimport\u001b[0m \u001b[0mskeras\u001b[0m\u001b[0;34m\u001b[0m\u001b[0;34m\u001b[0m\u001b[0m\n\u001b[0m",
            "\u001b[0;31mModuleNotFoundError\u001b[0m: No module named 'keraspp'",
            "",
            "\u001b[0;31m---------------------------------------------------------------------------\u001b[0;32m\nNOTE: If your import is failing due to a missing package, you can\nmanually install dependencies using either !pip or !apt.\n\nTo view examples of installing some common dependencies, click the\n\"Open Examples\" button below.\n\u001b[0;31m---------------------------------------------------------------------------\u001b[0m\n"
          ]
        }
      ]
    },
    {
      "cell_type": "code",
      "metadata": {
        "id": "xg_u2zPv71D2",
        "colab_type": "code",
        "colab": {}
      },
      "source": [
        "class ANN(models.Model):\n",
        "    def __init__(self, Nin, Nh, Nout):\n",
        "        # Prepare network layers and activate functions\n",
        "        hidden = layers.Dense(Nh)\n",
        "        output = layers.Dense(Nout)\n",
        "        relu = layers.Activation('relu')\n",
        "\n",
        "        # Connect network elements\n",
        "        x = layers.Input(shape=(Nin,))\n",
        "        h = relu(hidden(x))\n",
        "        y = output(h)\n",
        "\n",
        "        super().__init__(x, y)\n",
        "\n",
        "        self.compile(loss='mse', optimizer='sgd')\n",
        "\n",
        "\n",
        "def Data_func():\n",
        "    (X_train, y_train), (X_test, y_test) = datasets.boston_housing.load_data()\n",
        "    scaler = preprocessing.MinMaxScaler()\n",
        "    X_train = scaler.fit_transform(X_train)\n",
        "    X_test = scaler.transform(X_test)\n",
        "    return (X_train, y_train), (X_test, y_test)\n",
        "\n",
        "\n",
        "def main():\n",
        "    Nin = 13\n",
        "    Nh = 5\n",
        "    Nout = 1\n",
        "\n",
        "    model = ANN(Nin, Nh, Nout)\n",
        "    (X_train, y_train), (X_test, y_test) = Data_func()\n",
        "\n",
        "    history = model.fit(X_train, y_train, epochs=100, batch_size=100, validation_split=0.2, verbose=2)\n",
        "\n",
        "    performance_test = model.evaluate(X_test, y_test, batch_size=100)\n",
        "    print('\\nTest Loss -> {:.2f}'.format(performance_test))\n",
        "\n",
        "    skeras.plot_loss(history)\n",
        "    plt.show()\n",
        "\n",
        "\n",
        "if __name__ == '__main__':\n",
        "    main()"
      ],
      "execution_count": 0,
      "outputs": []
    }
  ]
}