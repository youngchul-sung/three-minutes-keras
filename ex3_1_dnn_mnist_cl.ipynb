{
  "nbformat": 4,
  "nbformat_minor": 0,
  "metadata": {
    "colab": {
      "name": "ex3_1_dnn_mnist_cl",
      "provenance": [],
      "include_colab_link": true
    },
    "kernelspec": {
      "name": "python3",
      "display_name": "Python 3"
    }
  },
  "cells": [
    {
      "cell_type": "markdown",
      "metadata": {
        "id": "view-in-github",
        "colab_type": "text"
      },
      "source": [
        "<a href=\"https://colab.research.google.com/github/youngchul-sung/three-minutes-keras/blob/master/ex3_1_dnn_mnist_cl.ipynb\" target=\"_parent\"><img src=\"https://colab.research.google.com/assets/colab-badge.svg\" alt=\"Open In Colab\"/></a>"
      ]
    },
    {
      "cell_type": "code",
      "metadata": {
        "id": "aUGLHP1mmq6G",
        "colab_type": "code",
        "outputId": "83f2c09a-f4d1-4377-bcea-d4118ab9b7fc",
        "colab": {
          "base_uri": "https://localhost:8080/",
          "height": 35
        }
      },
      "source": [
        "%tensorflow_version 2.x\n",
        "\n",
        "import os\n",
        "import numpy as np\n",
        "from tensorflow import keras\n",
        "from tensorflow.keras import layers, models, datasets\n",
        "import matplotlib.pyplot as plt\n",
        "from sklearn import preprocessing"
      ],
      "execution_count": 1,
      "outputs": [
        {
          "output_type": "stream",
          "text": [
            "TensorFlow 2.x selected.\n"
          ],
          "name": "stdout"
        }
      ]
    },
    {
      "cell_type": "code",
      "metadata": {
        "id": "QtTlMIDU77nM",
        "colab_type": "code",
        "colab": {}
      },
      "source": [
        "def save_history_history(fname, history_history, fold=''):\n",
        "    np.save(os.path.join(fold, fname), history_history)\n",
        "\n",
        "\n",
        "def load_history_history(fname, fold=''):\n",
        "    history_history = np.load(os.path.join(fold, fname)).item(0)\n",
        "    return history_history\n",
        "\n",
        "\n",
        "def plot_acc(history, title=None):\n",
        "    # summarize history for accuracy\n",
        "    if not isinstance(history, dict):\n",
        "        history = history.history\n",
        "\n",
        "    plt.plot(history['accuracy'])\n",
        "    plt.plot(history['val_accuracy'])\n",
        "    if title is not None:\n",
        "        plt.title(title)\n",
        "    plt.ylabel('Accracy')\n",
        "    plt.xlabel('Epoch')\n",
        "    plt.legend(['Training data', 'Validation data'], loc=0)\n",
        "    # plt.show()\n",
        "\n",
        "\n",
        "def plot_loss(history, title=None):\n",
        "    # summarize history for loss\n",
        "    if not isinstance(history, dict):\n",
        "        history = history.history\n",
        "\n",
        "    plt.plot(history['loss'])\n",
        "    plt.plot(history['val_loss'])\n",
        "    if title is not None:\n",
        "        plt.title(title)\n",
        "    plt.ylabel('Loss')\n",
        "    plt.xlabel('Epoch')\n",
        "    plt.legend(['Training data', 'Validation data'], loc=0)\n",
        "    # plt.show()\n",
        "\n",
        "\n",
        "def plot_history(history):\n",
        "    plt.figure(figsize=(15, 5))\n",
        "    plt.subplot(1, 2, 1)\n",
        "    plot_acc(history)\n",
        "    plt.subplot(1, 2, 2)\n",
        "    plot_loss(history)\n",
        "\n",
        "\n",
        "def plot_loss_acc(history):\n",
        "    plot_loss(history, '(a) Loss trajectory')\n",
        "    plt.show()\n",
        "    plot_acc(history, '(b) Accracy trajectory')\n",
        "    plt.show()\n",
        "\n",
        "\n",
        "def plot_acc_loss(history):\n",
        "    plot_acc(history, '(a) Accracy trajectory')\n",
        "    plt.show()\n",
        "    plot_loss(history, '(b) Loss trajectory')\n",
        "    plt.show()"
      ],
      "execution_count": 0,
      "outputs": []
    },
    {
      "cell_type": "code",
      "metadata": {
        "id": "060S0SZ5m44D",
        "colab_type": "code",
        "outputId": "ac506b83-27f8-4235-eb76-a9b9d305e27e",
        "colab": {
          "base_uri": "https://localhost:8080/",
          "height": 287
        }
      },
      "source": [
        "Nin = 784\n",
        "Nh_l = [100, 50]\n",
        "number_of_class = 10\n",
        "Nout = number_of_class\n",
        "\n",
        "class DNN(models.Sequential):\n",
        "    def __init__(self, Nin, Nh_l, Nout):\n",
        "        super().__init__()\n",
        "        self.add(layers.Dense(Nh_l[0], activation='relu', input_shape=(Nin,), name='Hidden-1'))\n",
        "        self.add(layers.Dense(Nh_l[1], activation='relu', name='Hidden-2'))       \n",
        "        self.add(layers.Dense(Nout, activation='softmax'))\n",
        "        self.compile(loss='categorical_crossentropy', \n",
        "                     optimizer='adam', \n",
        "                     metrics=['accuracy'])\n",
        "        \n",
        "        \n",
        "(X_train, y_train), (X_test, y_test) = datasets.mnist.load_data()\n",
        " \n",
        "y_train = keras.utils.to_categorical(y_train)\n",
        "y_test = keras.utils.to_categorical(y_test)\n",
        " \n",
        "L, W, H = X_train.shape\n",
        "X_train = X_train.reshape(-1, W * H)\n",
        "X_test = X_test.reshape(-1, W * H)\n",
        " \n",
        "X_train = X_train / 255.0\n",
        "X_test = X_test / 255.0 \n",
        " \n",
        "# 분류 DNN 학습 및 테스팅 ####################\n",
        "model = DNN(Nin, Nh_l, Nout)\n",
        "history = model.fit(X_train, y_train, epochs=5, batch_size=100, validation_split=0.2)\n",
        "performace_test = model.evaluate(X_test, y_test, batch_size=100)\n",
        "print('Test Loss and Accuracy ->', performace_test)"
      ],
      "execution_count": 3,
      "outputs": [
        {
          "output_type": "stream",
          "text": [
            "Downloading data from https://storage.googleapis.com/tensorflow/tf-keras-datasets/mnist.npz\n",
            "11493376/11490434 [==============================] - 0s 0us/step\n",
            "Train on 48000 samples, validate on 12000 samples\n",
            "Epoch 1/5\n",
            "48000/48000 [==============================] - 3s 59us/sample - loss: 0.3685 - accuracy: 0.8936 - val_loss: 0.1732 - val_accuracy: 0.9514\n",
            "Epoch 2/5\n",
            "48000/48000 [==============================] - 2s 44us/sample - loss: 0.1579 - accuracy: 0.9529 - val_loss: 0.1380 - val_accuracy: 0.9579\n",
            "Epoch 3/5\n",
            "48000/48000 [==============================] - 2s 46us/sample - loss: 0.1118 - accuracy: 0.9660 - val_loss: 0.1268 - val_accuracy: 0.9616\n",
            "Epoch 4/5\n",
            "48000/48000 [==============================] - 2s 46us/sample - loss: 0.0878 - accuracy: 0.9733 - val_loss: 0.1056 - val_accuracy: 0.9684\n",
            "Epoch 5/5\n",
            "48000/48000 [==============================] - 2s 47us/sample - loss: 0.0701 - accuracy: 0.9791 - val_loss: 0.0974 - val_accuracy: 0.9704\n",
            "10000/10000 [==============================] - 0s 21us/sample - loss: 0.0898 - accuracy: 0.9715\n",
            "Test Loss and Accuracy -> [0.08981467511766823, 0.9715]\n"
          ],
          "name": "stdout"
        }
      ]
    }
  ]
}