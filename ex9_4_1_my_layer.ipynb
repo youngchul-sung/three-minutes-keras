{
  "nbformat": 4,
  "nbformat_minor": 0,
  "metadata": {
    "colab": {
      "name": "ex9_4_1_my_layer",
      "provenance": [],
      "include_colab_link": true
    },
    "kernelspec": {
      "name": "python3",
      "display_name": "Python 3"
    }
  },
  "cells": [
    {
      "cell_type": "markdown",
      "metadata": {
        "id": "view-in-github",
        "colab_type": "text"
      },
      "source": [
        "<a href=\"https://colab.research.google.com/github/youngchul-sung/three-minutes-keras/blob/master/ex9_4_1_my_layer.ipynb\" target=\"_parent\"><img src=\"https://colab.research.google.com/assets/colab-badge.svg\" alt=\"Open In Colab\"/></a>"
      ]
    },
    {
      "cell_type": "code",
      "metadata": {
        "id": "Hvkiluyzebml",
        "colab_type": "code",
        "colab": {
          "base_uri": "https://localhost:8080/",
          "height": 53
        },
        "outputId": "08d7a428-12bf-47e2-8956-b82924865888"
      },
      "source": [
        "%tensorflow_version 2.x\n",
        "\n",
        "from tensorflow import keras\n",
        "from tensorflow.keras import backend as K\n",
        "from tensorflow.keras.layers import Layer\n",
        "import numpy as np\n",
        "\n",
        "from tensorflow.keras import initializers\n",
        "igu = initializers.get('glorot_uniform')\n",
        "iz = initializers.get('zeros')\n",
        "\n",
        "\n",
        "class SFC(Layer):\n",
        "    # FC: Simplified fully connected layer\n",
        "    def __init__(self, No, **kwargs):\n",
        "        self.No = No\n",
        "        super().__init__(**kwargs)\n",
        "\n",
        "    def build(self, inshape):\n",
        "        self.w = self.add_weight(\"w\", (inshape[1], self.No),\n",
        "                                 initializer=igu)\n",
        "        self.b = self.add_weight(\"b\", (self.No,),\n",
        "                                 initializer=iz)        \n",
        "        super().build(inshape)  \n",
        "\n",
        "    def call(self, x):\n",
        "        return K.dot(x, self.w) + self.b\n",
        "\n",
        "    def compute_output_shape(self, inshape):\n",
        "        return (inshape[0], self.No)\n",
        "\n",
        "\n",
        "def main():\n",
        "    x = np.array([0, 1, 2, 3, 4]) \n",
        "    y = x * 2 + 1\n",
        "\n",
        "    model = keras.models.Sequential()\n",
        "    model.add(SFC(1, input_shape=(1,)))\n",
        "    model.compile('SGD', 'mse')\n",
        "\n",
        "    model.fit(x[:2], y[:2], epochs=1000, verbose=0)\n",
        "    print('Targets:',y[2:])\n",
        "    print('Predictions:', model.predict(x[2:]).flatten())\n",
        "\n",
        "\n",
        "if __name__ == '__main__':\n",
        "    main()"
      ],
      "execution_count": 2,
      "outputs": [
        {
          "output_type": "stream",
          "text": [
            "Targets: [5 7 9]\n",
            "Predictions: [4.9401665 6.8968697 8.853574 ]\n"
          ],
          "name": "stdout"
        }
      ]
    }
  ]
}